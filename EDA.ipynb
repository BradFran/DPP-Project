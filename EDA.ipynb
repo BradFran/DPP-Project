{
 "cells": [
  {
   "cell_type": "markdown",
   "metadata": {},
   "source": [
    "Notebook for EDA of Superconducter data set"
   ]
  },
  {
   "cell_type": "code",
   "execution_count": null,
   "metadata": {},
   "outputs": [],
   "source": [
    "# import modules\n",
    "import numpy as np\n",
    "import pandas as pd\n",
    "import matplotlib.pyplot as plt\n",
    "import seaborn as sns\n",
    "\n",
    "# read in data\n",
    "df = pd.read_csv('./data/train.csv')\n",
    "df_m = pd.read_csv('./data/unique_m.csv')\n",
    "\n"
   ]
  },
  {
   "cell_type": "code",
   "execution_count": null,
   "metadata": {},
   "outputs": [],
   "source": [
    "df_m.head()"
   ]
  },
  {
   "cell_type": "code",
   "execution_count": null,
   "metadata": {},
   "outputs": [],
   "source": [
    "df.head()"
   ]
  },
  {
   "cell_type": "code",
   "execution_count": null,
   "metadata": {},
   "outputs": [],
   "source": [
    "print('df_m shape: ', df_m.shape)\n",
    "print('df shape: ', df.shape)"
   ]
  },
  {
   "cell_type": "code",
   "execution_count": null,
   "metadata": {},
   "outputs": [],
   "source": [
    "# Sample 2000 rows and compute the correlation matrix\n",
    "df_sample = df.sample(n=4000, random_state=42)\n",
    "corr_matrix = df_sample.corr()\n",
    "\n",
    "# Apply a threshold to show only strong correlations\n",
    "threshold = 0.2\n",
    "filtered_corr = corr_matrix[(corr_matrix > threshold) | (corr_matrix < -threshold)]\n",
    "\n",
    "# Plot heatmap\n",
    "plt.figure(figsize=(18, 16))  # set figure size\n",
    "sns.heatmap(\n",
    "    filtered_corr,\n",
    "    annot=False,\n",
    "    fmt=\".1f\",\n",
    "    cmap=\"coolwarm\",\n",
    "    linewidths=0.2,\n",
    "    mask=filtered_corr.isna(),\n",
    "    annot_kws={\"size\": 4},  # Reduce annotation font size\n",
    "    # cbar_kws={\"shrink\": 0.75},  # Shrink color bar for better readability\n",
    ")\n",
    "\n",
    "# Rotate axis labels\n",
    "plt.xticks(rotation=45, ha='right', fontsize=10)\n",
    "plt.yticks(fontsize=10)\n",
    "\n",
    "plt.title(\"Filtered Correlation Matrix (|corr| > 0.2)\", fontsize=14)\n",
    "plt.show()\n"
   ]
  }
 ],
 "metadata": {
  "kernelspec": {
   "display_name": ".venv",
   "language": "python",
   "name": "python3"
  },
  "language_info": {
   "codemirror_mode": {
    "name": "ipython",
    "version": 3
   },
   "file_extension": ".py",
   "mimetype": "text/x-python",
   "name": "python",
   "nbconvert_exporter": "python",
   "pygments_lexer": "ipython3",
   "version": "3.12.9"
  }
 },
 "nbformat": 4,
 "nbformat_minor": 2
}
